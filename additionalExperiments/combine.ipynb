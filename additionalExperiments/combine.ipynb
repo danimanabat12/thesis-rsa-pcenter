{
 "cells": [
  {
   "cell_type": "code",
   "execution_count": 1,
   "metadata": {},
   "outputs": [],
   "source": [
    "import os\n",
    "import pandas as pd\n",
    "import numpy as np"
   ]
  },
  {
   "cell_type": "code",
   "execution_count": 24,
   "metadata": {},
   "outputs": [],
   "source": [
    "def concatCsvs(currPC, fileName, type=0):\n",
    "  file1 = pd.read_csv(f\"{currPC}/run_1-10/{currPC}_{fileName}.csv\", header=None)\n",
    "  file2 = pd.read_csv(f\"{currPC}/run_11-20/{currPC}_{fileName}.csv\", header=None)\n",
    "  file3 = pd.read_csv(f\"{currPC}/run_21-30/{currPC}_{fileName}.csv\", header=None)\n",
    "\n",
    "  if type == 1:\n",
    "    finaldf = pd.concat([file1, file2, file3], axis=1)\n",
    "  else: \n",
    "    finaldf = pd.concat([file1, file2, file3])\n",
    "  path = f\"{currPC}/{currPC}_{fileName}.csv\"\n",
    "  finaldf.to_csv(path, index=False, header=False)\n",
    "  with open(path) as f:\n",
    "    lines = f.readlines()\n",
    "    last = len(lines) - 1\n",
    "    lines[last] = lines[last].replace('\\r','').replace('\\n','')\n",
    "  with open(path, 'w') as wr:\n",
    "    wr.writelines(lines)"
   ]
  },
  {
   "cell_type": "code",
   "execution_count": null,
   "metadata": {},
   "outputs": [],
   "source": [
    "def interface(currPC): \n",
    "  concatCsvs(currPC, \"RSA_AverageFitnesses\")\n",
    "  concatCsvs(currPC, \"RSA_BestFitTime\", type=1)\n",
    "  concatCsvs(currPC, \"RSA_FinalBestX\")\n",
    "  concatCsvs(currPC, \"RSA_FinalBestY\")\n",
    "  concatCsvs(currPC, \"RSA_GenerationBestFitnesses\", type=1)\n",
    "  concatCsvs(currPC, \"RSA_InitBestX\")\n",
    "  concatCsvs(currPC, \"RSA_InitBestY\")\n",
    "  concatCsvs(currPC, \"RSA_PhasesPerformance\")\n",
    "  concatCsvs(currPC, \"RSA_RunTime\")"
   ]
  },
  {
   "cell_type": "code",
   "execution_count": 26,
   "metadata": {},
   "outputs": [
    {
     "name": "stdout",
     "output_type": "stream",
     "text": [
      "1\n",
      "2\n",
      "3\n",
      "4\n",
      "5\n",
      "6\n",
      "7\n",
      "8\n",
      "9\n"
     ]
    }
   ],
   "source": [
    "for i in range(1, 10):\n",
    "  print(i)"
   ]
  },
  {
   "cell_type": "code",
   "execution_count": null,
   "metadata": {},
   "outputs": [],
   "source": []
  }
 ],
 "metadata": {
  "kernelspec": {
   "display_name": "Python 3",
   "language": "python",
   "name": "python3"
  },
  "language_info": {
   "codemirror_mode": {
    "name": "ipython",
    "version": 3
   },
   "file_extension": ".py",
   "mimetype": "text/x-python",
   "name": "python",
   "nbconvert_exporter": "python",
   "pygments_lexer": "ipython3",
   "version": "3.10.6 (main, Aug 30 2022, 04:58:14) [Clang 13.1.6 (clang-1316.0.21.2.5)]"
  },
  "orig_nbformat": 4,
  "vscode": {
   "interpreter": {
    "hash": "b0fa6594d8f4cbf19f97940f81e996739fb7646882a419484c72d19e05852a7e"
   }
  }
 },
 "nbformat": 4,
 "nbformat_minor": 2
}
